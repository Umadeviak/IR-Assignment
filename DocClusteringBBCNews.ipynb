{
 "cells": [
  {
   "cell_type": "code",
   "execution_count": 1,
   "id": "8328a479-8a78-4652-b937-8a2f115c1d5a",
   "metadata": {},
   "outputs": [],
   "source": [
    "import numpy as np\n",
    "import pandas as pd\n",
    "import matplotlib.pyplot as plt\n",
    "import matplotlib.cm as cm\n",
    "\n",
    "from sklearn.cluster import MiniBatchKMeans\n",
    "from sklearn.feature_extraction.text import TfidfVectorizer\n",
    "from sklearn.decomposition import PCA\n",
    "from sklearn.manifold import TSNE"
   ]
  },
  {
   "cell_type": "code",
   "execution_count": null,
   "id": "93812446-6b18-4a94-a410-5af6384984ad",
   "metadata": {},
   "outputs": [],
   "source": [
    "import requests\n",
    "import json\n",
    "from bs4 import BeautifulSoup as bs\n",
    "Details = []\n",
    "#reqURL = 'http://feeds.bbci.co.uk/news/technology/rss.xml'\n",
    "#reqURL = 'http://feeds.bbci.co.uk/news/business/rss.xml'\n",
    "#reqURL = 'http://feeds.bbci.co.uk/sport/football/rss.xml?edition=uk'\n",
    "#reqURL = 'http://feeds.bbci.co.uk/news/science_and_environment/rss.xml?edition=uk'\n",
    "#reqURL = 'https://feeds.skynews.com/feeds/rss/politics.xml'\n",
    "#reqURL = 'https://feeds.skynews.com/feeds/rss/technology.xml'\n",
    "#reqURL = 'https://feeds.skynews.com/feeds/rss/business.xml'\n",
    "#reqURL = 'https://feeds.skynews.com/feeds/rss/entertainment.xml'\n",
    "reqURL = 'http://feeds.bbci.co.uk/news/entertainment_and_arts/rss.xml?edition=uk'\n",
    "if(reqURL != None and reqURL != '/'):\n",
    "    description = bs(requests.get(\n",
    "                                    reqURL.strip()\n",
    "                                ).text,\n",
    "                    'html.parser'\n",
    "                    ).findAll('description')\n",
    "    for desc in description:\n",
    "        Details.append(desc.get_text())\n",
    "#print(Details)\n",
    "import pandas as pd\n",
    "df = pd.DataFrame(Details, columns=[\"Details\"])\n",
    "df.to_csv('BBCEntertainment.csv', index=False)"
   ]
  },
  {
   "cell_type": "code",
   "execution_count": 121,
   "id": "c1ab70c1-591d-43c0-b4ba-a1aa67787263",
   "metadata": {},
   "outputs": [
    {
     "data": {
      "text/html": [
       "<div>\n",
       "<style scoped>\n",
       "    .dataframe tbody tr th:only-of-type {\n",
       "        vertical-align: middle;\n",
       "    }\n",
       "\n",
       "    .dataframe tbody tr th {\n",
       "        vertical-align: top;\n",
       "    }\n",
       "\n",
       "    .dataframe thead th {\n",
       "        text-align: right;\n",
       "    }\n",
       "</style>\n",
       "<table border=\"1\" class=\"dataframe\">\n",
       "  <thead>\n",
       "    <tr style=\"text-align: right;\">\n",
       "      <th></th>\n",
       "      <th>Document</th>\n",
       "      <th>Label</th>\n",
       "      <th>LabelNum</th>\n",
       "    </tr>\n",
       "  </thead>\n",
       "  <tbody>\n",
       "    <tr>\n",
       "      <th>0</th>\n",
       "      <td>Critics claim publicly available data shows wo...</td>\n",
       "      <td>Business</td>\n",
       "      <td>0</td>\n",
       "    </tr>\n",
       "    <tr>\n",
       "      <th>1</th>\n",
       "      <td>Airlines and oil firms slide as FTSE 100 index...</td>\n",
       "      <td>Business</td>\n",
       "      <td>0</td>\n",
       "    </tr>\n",
       "    <tr>\n",
       "      <th>2</th>\n",
       "      <td>Chip shortages lead to production dropping to ...</td>\n",
       "      <td>Business</td>\n",
       "      <td>0</td>\n",
       "    </tr>\n",
       "    <tr>\n",
       "      <th>3</th>\n",
       "      <td>Analysts say this year's sale will be the bigg...</td>\n",
       "      <td>Business</td>\n",
       "      <td>0</td>\n",
       "    </tr>\n",
       "    <tr>\n",
       "      <th>4</th>\n",
       "      <td>The boss of the world's largest fertiliser pro...</td>\n",
       "      <td>Business</td>\n",
       "      <td>0</td>\n",
       "    </tr>\n",
       "  </tbody>\n",
       "</table>\n",
       "</div>"
      ],
      "text/plain": [
       "                                            Document     Label  LabelNum\n",
       "0  Critics claim publicly available data shows wo...  Business         0\n",
       "1  Airlines and oil firms slide as FTSE 100 index...  Business         0\n",
       "2  Chip shortages lead to production dropping to ...  Business         0\n",
       "3  Analysts say this year's sale will be the bigg...  Business         0\n",
       "4  The boss of the world's largest fertiliser pro...  Business         0"
      ]
     },
     "execution_count": 121,
     "metadata": {},
     "output_type": "execute_result"
    }
   ],
   "source": [
    "data = pd.read_csv('/Users/vinu/Desktop/UmaCoventry/semester2/IR/Clustering/BBCNewsData.csv')\n",
    "data.head()"
   ]
  },
  {
   "cell_type": "code",
   "execution_count": 46,
   "id": "3de84828-0e73-46bb-87f4-47ade581f0af",
   "metadata": {},
   "outputs": [
    {
     "data": {
      "text/plain": [
       "187"
      ]
     },
     "execution_count": 46,
     "metadata": {},
     "output_type": "execute_result"
    }
   ],
   "source": [
    "len(data)"
   ]
  },
  {
   "cell_type": "code",
   "execution_count": 73,
   "id": "e349ad2c-3310-4f2e-9536-23e7c5fbe388",
   "metadata": {},
   "outputs": [
    {
     "name": "stderr",
     "output_type": "stream",
     "text": [
      "[nltk_data] Downloading package stopwords to /Users/vinu/nltk_data...\n",
      "[nltk_data]   Package stopwords is already up-to-date!\n"
     ]
    }
   ],
   "source": [
    "import nltk\n",
    "nltk.download(\"stopwords\")\n",
    "from nltk.corpus import stopwords\n",
    "sw = stopwords.words('english')"
   ]
  },
  {
   "cell_type": "code",
   "execution_count": 75,
   "id": "1b8c5493-1dd4-464b-a489-4ad43bb123d4",
   "metadata": {},
   "outputs": [
    {
     "name": "stderr",
     "output_type": "stream",
     "text": [
      "[nltk_data] Downloading package punkt to /Users/vinu/nltk_data...\n",
      "[nltk_data]   Package punkt is already up-to-date!\n"
     ]
    }
   ],
   "source": [
    "nltk.download(\"punkt\")\n",
    "from nltk.tokenize import word_tokenize\n",
    "from nltk.stem import PorterStemmer\n",
    "ps = PorterStemmer()\n",
    "filtered_docs = []\n",
    "for doc in data.Document:\n",
    "    tokens = word_tokenize(doc)\n",
    "    tmp = \"\"\n",
    "    for w in tokens:\n",
    "        if w not in sw:\n",
    "            tmp += ps.stem(w) + \" \"\n",
    "    filtered_docs.append(tmp)"
   ]
  },
  {
   "cell_type": "code",
   "execution_count": 76,
   "id": "035e4df6-6b78-4b2c-9fa5-0a91193d0215",
   "metadata": {},
   "outputs": [],
   "source": [
    "tfidf = TfidfVectorizer(\n",
    "    min_df = 5,\n",
    "    max_df = 0.95,\n",
    "    max_features = 8000,\n",
    "    stop_words = 'english'\n",
    ")\n",
    "tfidf.fit(data.Document)\n",
    "text = tfidf.transform(filtered_docs)"
   ]
  },
  {
   "cell_type": "code",
   "execution_count": 80,
   "id": "812fc011-6f0f-4d42-894c-9b644ae57719",
   "metadata": {},
   "outputs": [
    {
     "data": {
      "image/png": "[encoded data removed]",
      "text/plain": [
       "<Figure size 432x288 with 1 Axes>"
      ]
     },
     "metadata": {
      "needs_background": "light"
     },
     "output_type": "display_data"
    }
   ],
   "source": [
    "from sklearn.cluster import KMeans\n",
    "def find_optimal_clusters(data, max_k):\n",
    "    iters = range(2, max_k+1, 1)\n",
    "    \n",
    "    sse = []\n",
    "    for k in iters:\n",
    "        sse.append(MiniBatchKMeans(n_clusters=k, init='k-means++', max_iter=100, n_init=1).fit(data).inertia_)\n",
    "        #print('Fit {} clusters'.format(k))\n",
    "        \n",
    "    f, ax = plt.subplots(1, 1)\n",
    "    ax.plot(iters, sse, marker='o')\n",
    "    ax.set_xlabel('Cluster Centers')\n",
    "    ax.set_xticks(iters)\n",
    "    ax.set_xticklabels(iters)\n",
    "    ax.set_ylabel('SSE')\n",
    "    ax.set_title('SSE by Cluster Center Plot')\n",
    "    \n",
    "find_optimal_clusters(text, 20)"
   ]
  },
  {
   "cell_type": "code",
   "execution_count": 86,
   "id": "e5a15811-0d22-4b36-bbe8-37812206d075",
   "metadata": {},
   "outputs": [],
   "source": [
    "model = MiniBatchKMeans(n_clusters= 6)"
   ]
  },
  {
   "cell_type": "code",
   "execution_count": 87,
   "id": "99cf144e-6e19-4e18-a81f-4aaee90f559e",
   "metadata": {},
   "outputs": [
    {
     "data": {
      "text/plain": [
       "MiniBatchKMeans(n_clusters=6)"
      ]
     },
     "execution_count": 87,
     "metadata": {},
     "output_type": "execute_result"
    }
   ],
   "source": [
    "model.fit(text)"
   ]
  },
  {
   "cell_type": "code",
   "execution_count": 83,
   "id": "a373c418-99db-4a2f-8c52-44f132006e6b",
   "metadata": {},
   "outputs": [],
   "source": [
    "clusters = MiniBatchKMeans(n_clusters= 18).fit_predict(text)"
   ]
  },
  {
   "cell_type": "code",
   "execution_count": 85,
   "id": "8eca8b0c-a270-4c9c-aad2-7edcf947e2ce",
   "metadata": {},
   "outputs": [
    {
     "data": {
      "image/png": "[encoded data removed]",
      "text/plain": [
       "<Figure size 1008x432 with 2 Axes>"
      ]
     },
     "metadata": {
      "needs_background": "light"
     },
     "output_type": "display_data"
    }
   ],
   "source": [
    "def plot_tsne_pca(data, labels):\n",
    "    max_label = max(labels)\n",
    "    max_items = np.random.choice(range(data.shape[0]), size=100, replace=False)\n",
    "    \n",
    "    pca = PCA(n_components=2).fit_transform(data[max_items,:].todense())\n",
    "    tsne = TSNE().fit_transform(PCA(n_components=5).fit_transform(data[max_items,:].todense()))\n",
    "    \n",
    "    \n",
    "    idx = np.random.choice(range(pca.shape[0]), size=100, replace=False)\n",
    "    label_subset = labels[max_items]\n",
    "    label_subset = [cm.hsv(i/max_label) for i in label_subset[idx]]\n",
    "    \n",
    "    f, ax = plt.subplots(1, 2, figsize=(14, 6))\n",
    "    \n",
    "    ax[0].scatter(pca[idx, 0], pca[idx, 1], c=label_subset)\n",
    "    ax[0].set_title('PCA Cluster Plot')\n",
    "    \n",
    "    ax[1].scatter(tsne[idx, 0], tsne[idx, 1], c=label_subset)\n",
    "    ax[1].set_title('t-SNE Cluster Plot')\n",
    "    \n",
    "plot_tsne_pca(text, clusters)"
   ]
  },
  {
   "cell_type": "code",
   "execution_count": 130,
   "id": "fea0ecc7-d5e8-4d9f-bc4a-b65df040b1ac",
   "metadata": {},
   "outputs": [
    {
     "name": "stdout",
     "output_type": "stream",
     "text": [
      "Top terms per cluster:\n",
      "Cluster 0:\n",
      " year\t\n",
      " uk\t\n",
      " johnson\t\n",
      " bbc\t\n",
      " giant\t\n",
      " biggest\t\n",
      " nasa\t\n",
      " covid\t\n",
      " home\t\n",
      " friday\t\n",
      "Cluster 1:\n",
      " africa\t\n",
      " new\t\n",
      " countries\t\n",
      " home\t\n",
      " giant\t\n",
      " friday\t\n",
      " firms\t\n",
      " energy\t\n",
      " covid\t\n",
      " company\t\n",
      "Cluster 2:\n",
      " world\t\n",
      " new\t\n",
      " variant\t\n",
      " covid\t\n",
      " news\t\n",
      " said\t\n",
      " years\t\n",
      " company\t\n",
      " friday\t\n",
      " firms\t\n"
     ]
    }
   ],
   "source": [
    "print(\"Top terms per cluster:\")\n",
    "order_centroids = model.cluster_centers_.argsort()[:, ::-1]\n",
    "terms = tfidf.get_feature_names()\n",
    "for i in range(3):\n",
    "    print(\"Cluster %d:\" % i),\n",
    "    for ind in order_centroids[i, :10]:\n",
    "        print(' %s' '\\t' % terms[ind]),\n",
    "    print"
   ]
  },
  {
   "cell_type": "code",
   "execution_count": 94,
   "id": "d9ecc2e9-ca1a-4dd2-97fb-22673abba9fa",
   "metadata": {},
   "outputs": [
    {
     "name": "stdout",
     "output_type": "stream",
     "text": [
      "[0]\n"
     ]
    }
   ],
   "source": [
    "Y = tfidf.transform([\"I have covid.\"])\n",
    "prediction = model.predict(Y)\n",
    "print(prediction)"
   ]
  },
  {
   "cell_type": "code",
   "execution_count": 127,
   "id": "dbff0af0-e870-44f9-ac1a-2af6ffa22073",
   "metadata": {},
   "outputs": [
    {
     "name": "stdout",
     "output_type": "stream",
     "text": [
      "[0]\n"
     ]
    }
   ],
   "source": [
    "Y = tfidf.transform([\"New biggest home\"])\n",
    "prediction = model.predict(Y)\n",
    "print(prediction)"
   ]
  },
  {
   "cell_type": "code",
   "execution_count": 102,
   "id": "b03d304b-7114-44fe-9543-e2e1df462a96",
   "metadata": {},
   "outputs": [
    {
     "name": "stdout",
     "output_type": "stream",
     "text": [
      "Manchester United have reached an agreement with Lokomotiv Moscow for the Russian club's head of sports and development Ralf Rangnick to move to Old Trafford as interim manager. Sports\n"
     ]
    }
   ],
   "source": [
    "Y = data.Document[110]\n",
    "l = data.Label[110]\n",
    "print(Y,l)"
   ]
  },
  {
   "cell_type": "code",
   "execution_count": 106,
   "id": "8fd6098b-40c2-438d-ad55-81efa3693da3",
   "metadata": {},
   "outputs": [],
   "source": [
    "vec = TfidfVectorizer(stop_words=\"english\")\n",
    "vec.fit(data.Document)\n",
    "features = vec.transform(data.Document)"
   ]
  },
  {
   "cell_type": "code",
   "execution_count": 114,
   "id": "e273d31f-60ff-447b-bd39-81eede6701b3",
   "metadata": {},
   "outputs": [
    {
     "data": {
      "text/plain": [
       "MiniBatchKMeans(n_clusters=6, random_state=5)"
      ]
     },
     "execution_count": 114,
     "metadata": {},
     "output_type": "execute_result"
    }
   ],
   "source": [
    "cls = MiniBatchKMeans(n_clusters=6, random_state=5)\n",
    "cls.fit(features)"
   ]
  },
  {
   "cell_type": "code",
   "execution_count": 115,
   "id": "53f765f4-810a-4047-8021-6552f9ceb7e7",
   "metadata": {},
   "outputs": [
    {
     "data": {
      "text/plain": [
       "array([1, 1, 1, 1, 2, 1, 1, 1, 1, 1, 5, 1, 2, 1, 1, 1, 0, 1, 2, 1, 0, 1,\n",
       "       2, 1, 1, 1, 1, 1, 1, 1, 0, 4, 1, 1, 1, 1, 1, 1, 1, 1, 1, 1, 1, 1,\n",
       "       1, 1, 1, 2, 1, 1, 1, 1, 1, 1, 1, 1, 1, 1, 1, 0, 1, 1, 1, 1, 1, 1,\n",
       "       1, 5, 5, 5, 5, 1, 5, 1, 1, 1, 1, 5, 1, 1, 1, 1, 1, 1, 1, 1, 3, 1,\n",
       "       1, 1, 1, 2, 1, 1, 1, 1, 1, 1, 1, 1, 3, 1, 1, 1, 1, 1, 1, 1, 2, 1,\n",
       "       1, 1, 1, 4, 1, 1, 1, 1, 1, 1, 1, 1, 1, 1, 1, 1, 1, 1, 1, 1, 1, 1,\n",
       "       1, 1, 1, 1, 1, 1, 1, 1, 1, 1, 1, 2, 1, 1, 4, 1, 1, 1, 1, 1, 1, 1,\n",
       "       2, 1, 1, 1, 2, 1, 1, 1, 1, 1, 1, 2, 1, 1, 5, 5, 1, 1, 1, 1, 1, 1,\n",
       "       2, 1, 1, 2, 1, 5, 1, 5, 1, 1, 5], dtype=int32)"
      ]
     },
     "execution_count": 115,
     "metadata": {},
     "output_type": "execute_result"
    }
   ],
   "source": [
    "cls.predict(features)"
   ]
  },
  {
   "cell_type": "code",
   "execution_count": 116,
   "id": "d40f16cd-9dd0-4194-bd1f-818a10090bdb",
   "metadata": {},
   "outputs": [],
   "source": [
    "pca = PCA(n_components=2, random_state=5)\n",
    "reduced_features = pca.fit_transform(features.toarray())\n",
    "\n",
    "# reduce the cluster centers to 2D\n",
    "reduced_cluster_centers = pca.transform(cls.cluster_centers_)"
   ]
  },
  {
   "cell_type": "code",
   "execution_count": 117,
   "id": "372f7aac-e2a6-4db3-98a4-382a04549c90",
   "metadata": {},
   "outputs": [
    {
     "data": {
      "text/plain": [
       "<matplotlib.collections.PathCollection at 0x11fe7f340>"
      ]
     },
     "execution_count": 117,
     "metadata": {},
     "output_type": "execute_result"
    },
    {
     "data": {
      "image/png": "[encoded data removed]",
      "text/plain": [
       "<Figure size 432x288 with 1 Axes>"
      ]
     },
     "metadata": {
      "needs_background": "light"
     },
     "output_type": "display_data"
    }
   ],
   "source": [
    "plt.scatter(reduced_features[:,0], reduced_features[:,1], c=cls.predict(features))\n",
    "plt.scatter(reduced_cluster_centers[:, 0], reduced_cluster_centers[:,1], marker='x', s=150, c='b')"
   ]
  },
  {
   "cell_type": "code",
   "execution_count": 129,
   "id": "0c1f33fe-1f23-46db-963b-d878ad87e2e2",
   "metadata": {},
   "outputs": [
    {
     "data": {
      "text/plain": [
       "0.05793220447994829"
      ]
     },
     "execution_count": 129,
     "metadata": {},
     "output_type": "execute_result"
    }
   ],
   "source": [
    "from sklearn.metrics import homogeneity_score\n",
    "homogeneity_score(data.LabelNum, cls.predict(features))"
   ]
  },
  {
   "cell_type": "code",
   "execution_count": 120,
   "id": "1b45431a-b5ba-4479-996d-b0686b3b4b14",
   "metadata": {},
   "outputs": [
    {
     "data": {
      "text/plain": [
       "0.006401629255254912"
      ]
     },
     "execution_count": 120,
     "metadata": {},
     "output_type": "execute_result"
    }
   ],
   "source": [
    "from sklearn.metrics import silhouette_score\n",
    "silhouette_score(features, labels=cls.predict(features))"
   ]
  },
  {
   "cell_type": "code",
   "execution_count": null,
   "id": "5f98b191-1c22-4991-b76b-e4320c89c0c6",
   "metadata": {},
   "outputs": [],
   "source": []
  }
 ],
 "metadata": {
  "kernelspec": {
   "display_name": "Python 3",
   "language": "python",
   "name": "python3"
  },
  "language_info": {
   "codemirror_mode": {
    "name": "ipython",
    "version": 3
   },
   "file_extension": ".py",
   "mimetype": "text/x-python",
   "name": "python",
   "nbconvert_exporter": "python",
   "pygments_lexer": "ipython3",
   "version": "3.8.8"
  }
 },
 "nbformat": 4,
 "nbformat_minor": 5
}
